{
 "cells": [
  {
   "cell_type": "code",
   "execution_count": 1,
   "id": "60fd23e6",
   "metadata": {},
   "outputs": [],
   "source": [
    "import matplotlib.pyplot as plt\n",
    "import seaborn as sns\n",
    "import pandas as pd\n",
    "import numpy as np \n",
    "import os"
   ]
  },
  {
   "cell_type": "code",
   "execution_count": 2,
   "id": "9dc3aae1",
   "metadata": {},
   "outputs": [],
   "source": [
    "from sklearn.preprocessing import LabelEncoder\n",
    "from sklearn.model_selection import train_test_split\n",
    "from sklearn.feature_extraction.text import TfidfVectorizer\n",
    "\n",
    "# Machine Learning Models\n",
    "from sklearn import svm  \n",
    "from sklearn.naive_bayes import GaussianNB\n",
    "from sklearn.linear_model import LogisticRegression\n",
    "from sklearn.tree import DecisionTreeClassifier\n",
    "from sklearn.ensemble import RandomForestClassifier\n",
    "from sklearn.ensemble import GradientBoostingClassifier\n",
    "from sklearn.ensemble import AdaBoostClassifier\n",
    "import xgboost as xgb\n",
    "\n",
    "# Model Evaluation Libraries\n",
    "from sklearn.metrics import classification_report, confusion_matrix\n",
    "\n",
    "\n",
    "\n",
    "from sklearn.utils import shuffle\n",
    "from sklearn.preprocessing import LabelEncoder,OneHotEncoder\n",
    "#making corpus or words from comments\n",
    "import re\n",
    "from nltk.stem.porter import PorterStemmer\n",
    "import nltk\n",
    "from sklearn.feature_extraction.text import CountVectorizer\n",
    "from sklearn.model_selection import train_test_split\n",
    "from sklearn.linear_model import LogisticRegression\n",
    "from sklearn.metrics import confusion_matrix\n",
    "from sklearn.metrics import accuracy_score\n",
    "\n",
    "\n",
    "# Import Data Preprocessing Libraries \n",
    "from sklearn.preprocessing import LabelEncoder\n",
    "from sklearn.model_selection import train_test_split\n",
    "from sklearn.feature_extraction.text import TfidfVectorizer\n",
    "\n",
    "# Machine Learning Models\n",
    "from sklearn import svm  \n",
    "from sklearn.naive_bayes import GaussianNB\n",
    "from sklearn.linear_model import LogisticRegression\n",
    "from sklearn.tree import DecisionTreeClassifier\n",
    "from sklearn.ensemble import RandomForestClassifier\n",
    "from sklearn.ensemble import GradientBoostingClassifier\n",
    "from sklearn.ensemble import AdaBoostClassifier\n",
    "import xgboost as xgb\n",
    "\n",
    "# Model Evaluation Libraries\n",
    "from sklearn.metrics import classification_report, confusion_matrix"
   ]
  },
  {
   "cell_type": "code",
   "execution_count": 3,
   "id": "e98fcb91",
   "metadata": {},
   "outputs": [],
   "source": [
    "from sklearn.preprocessing import LabelEncoder\n",
    "from sklearn.model_selection import train_test_split\n",
    "from sklearn.feature_extraction.text import TfidfVectorizer\n",
    "\n",
    "# Machine Learning Models\n",
    "from sklearn import svm  \n",
    "from sklearn.naive_bayes import GaussianNB\n",
    "from sklearn.linear_model import LogisticRegression\n",
    "from sklearn.tree import DecisionTreeClassifier\n",
    "from sklearn.ensemble import RandomForestClassifier\n",
    "from sklearn.ensemble import GradientBoostingClassifier\n",
    "from sklearn.ensemble import AdaBoostClassifier\n",
    "import xgboost as xgb\n",
    "\n",
    "# Model Evaluation Libraries\n",
    "from sklearn.metrics import classification_report, confusion_matrix"
   ]
  },
  {
   "cell_type": "code",
   "execution_count": 4,
   "id": "70a8ca84",
   "metadata": {},
   "outputs": [
    {
     "data": {
      "text/html": [
       "<div>\n",
       "<style scoped>\n",
       "    .dataframe tbody tr th:only-of-type {\n",
       "        vertical-align: middle;\n",
       "    }\n",
       "\n",
       "    .dataframe tbody tr th {\n",
       "        vertical-align: top;\n",
       "    }\n",
       "\n",
       "    .dataframe thead th {\n",
       "        text-align: right;\n",
       "    }\n",
       "</style>\n",
       "<table border=\"1\" class=\"dataframe\">\n",
       "  <thead>\n",
       "    <tr style=\"text-align: right;\">\n",
       "      <th></th>\n",
       "      <th>Review Id</th>\n",
       "      <th>Text</th>\n",
       "      <th>Annotator 1</th>\n",
       "      <th>Annotator 2</th>\n",
       "      <th>Annotator 3</th>\n",
       "    </tr>\n",
       "  </thead>\n",
       "  <tbody>\n",
       "    <tr>\n",
       "      <th>0</th>\n",
       "      <td>1.0</td>\n",
       "      <td>بھنڈی بنائی تھی بہت اچھی بنی تھ</td>\n",
       "      <td>pos</td>\n",
       "      <td>pos</td>\n",
       "      <td>pos</td>\n",
       "    </tr>\n",
       "    <tr>\n",
       "      <th>1</th>\n",
       "      <td>2.0</td>\n",
       "      <td>آہاں نائس بارکان ویسے اس موسم میں بھنڈی</td>\n",
       "      <td>pos</td>\n",
       "      <td>pos</td>\n",
       "      <td>pos</td>\n",
       "    </tr>\n",
       "    <tr>\n",
       "      <th>2</th>\n",
       "      <td>3.0</td>\n",
       "      <td>سوری ہمارے لیے موسم کوئی معنے رکھتے لوکیشن اہم...</td>\n",
       "      <td>neu</td>\n",
       "      <td>neu</td>\n",
       "      <td>neu</td>\n",
       "    </tr>\n",
       "    <tr>\n",
       "      <th>3</th>\n",
       "      <td>4.0</td>\n",
       "      <td>چکن کڑاہی</td>\n",
       "      <td>neu</td>\n",
       "      <td>neu</td>\n",
       "      <td>neu</td>\n",
       "    </tr>\n",
       "    <tr>\n",
       "      <th>4</th>\n",
       "      <td>5.0</td>\n",
       "      <td>ہاں تو بنا کے ہی کھائی نا</td>\n",
       "      <td>neu</td>\n",
       "      <td>neu</td>\n",
       "      <td>neu</td>\n",
       "    </tr>\n",
       "  </tbody>\n",
       "</table>\n",
       "</div>"
      ],
      "text/plain": [
       "   Review Id                                               Text Annotator 1  \\\n",
       "0        1.0                    بھنڈی بنائی تھی بہت اچھی بنی تھ         pos   \n",
       "1        2.0            آہاں نائس بارکان ویسے اس موسم میں بھنڈی         pos   \n",
       "2        3.0  سوری ہمارے لیے موسم کوئی معنے رکھتے لوکیشن اہم...         neu   \n",
       "3        4.0                                          چکن کڑاہی         neu   \n",
       "4        5.0                         ہاں تو بنا کے ہی کھائی نا          neu   \n",
       "\n",
       "  Annotator 2 Annotator 3  \n",
       "0         pos         pos  \n",
       "1         pos         pos  \n",
       "2         neu         neu  \n",
       "3         neu         neu  \n",
       "4         neu         neu  "
      ]
     },
     "execution_count": 4,
     "metadata": {},
     "output_type": "execute_result"
    }
   ],
   "source": [
    "data = pd.read_excel(\"UrduTextAnnotatedData.xlsx\")\n",
    "data.head()"
   ]
  },
  {
   "cell_type": "code",
   "execution_count": 5,
   "id": "4a200a0f",
   "metadata": {},
   "outputs": [
    {
     "data": {
      "text/html": [
       "<div>\n",
       "<style scoped>\n",
       "    .dataframe tbody tr th:only-of-type {\n",
       "        vertical-align: middle;\n",
       "    }\n",
       "\n",
       "    .dataframe tbody tr th {\n",
       "        vertical-align: top;\n",
       "    }\n",
       "\n",
       "    .dataframe thead th {\n",
       "        text-align: right;\n",
       "    }\n",
       "</style>\n",
       "<table border=\"1\" class=\"dataframe\">\n",
       "  <thead>\n",
       "    <tr style=\"text-align: right;\">\n",
       "      <th></th>\n",
       "      <th>Review Id</th>\n",
       "    </tr>\n",
       "  </thead>\n",
       "  <tbody>\n",
       "    <tr>\n",
       "      <th>count</th>\n",
       "      <td>1482.000000</td>\n",
       "    </tr>\n",
       "    <tr>\n",
       "      <th>mean</th>\n",
       "      <td>752.837382</td>\n",
       "    </tr>\n",
       "    <tr>\n",
       "      <th>std</th>\n",
       "      <td>434.506245</td>\n",
       "    </tr>\n",
       "    <tr>\n",
       "      <th>min</th>\n",
       "      <td>1.000000</td>\n",
       "    </tr>\n",
       "    <tr>\n",
       "      <th>25%</th>\n",
       "      <td>372.250000</td>\n",
       "    </tr>\n",
       "    <tr>\n",
       "      <th>50%</th>\n",
       "      <td>757.500000</td>\n",
       "    </tr>\n",
       "    <tr>\n",
       "      <th>75%</th>\n",
       "      <td>1128.750000</td>\n",
       "    </tr>\n",
       "    <tr>\n",
       "      <th>max</th>\n",
       "      <td>1500.000000</td>\n",
       "    </tr>\n",
       "  </tbody>\n",
       "</table>\n",
       "</div>"
      ],
      "text/plain": [
       "         Review Id\n",
       "count  1482.000000\n",
       "mean    752.837382\n",
       "std     434.506245\n",
       "min       1.000000\n",
       "25%     372.250000\n",
       "50%     757.500000\n",
       "75%    1128.750000\n",
       "max    1500.000000"
      ]
     },
     "execution_count": 5,
     "metadata": {},
     "output_type": "execute_result"
    }
   ],
   "source": [
    "data.describe()"
   ]
  },
  {
   "cell_type": "code",
   "execution_count": null,
   "id": "094b6436",
   "metadata": {},
   "outputs": [],
   "source": []
  },
  {
   "cell_type": "code",
   "execution_count": 6,
   "id": "9964fcbd",
   "metadata": {},
   "outputs": [
    {
     "data": {
      "text/plain": [
       "[<matplotlib.lines.Line2D at 0x2547b55bec8>]"
      ]
     },
     "execution_count": 6,
     "metadata": {},
     "output_type": "execute_result"
    },
    {
     "data": {
      "image/png": "[encoded data removed]",
      "text/plain": [
       "<Figure size 640x480 with 1 Axes>"
      ]
     },
     "metadata": {},
     "output_type": "display_data"
    }
   ],
   "source": [
    "#Text preprocessing\n",
    "### Data Cleansing\n",
    "\n",
    "plt.plot(data['Review Id'].value_counts())"
   ]
  },
  {
   "cell_type": "code",
   "execution_count": 7,
   "id": "a92d8139",
   "metadata": {},
   "outputs": [],
   "source": [
    "import urduhack\n",
    "urduhack.download()\n",
    "from urduhack.normalization import normalize\n",
    "from urduhack.preprocessing import normalize_whitespace, remove_punctuation, remove_accents, replace_urls, replace_emails, replace_numbers, replace_currency_symbols, remove_english_alphabets"
   ]
  },
  {
   "cell_type": "code",
   "execution_count": 8,
   "id": "add00d5a",
   "metadata": {},
   "outputs": [],
   "source": [
    "from typing import FrozenSet\n",
    "\n",
    "# Urdu Language Stop words list\n",
    "\n",
    "\n",
    "STOP_WORDS: FrozenSet[str] = frozenset(\"\"\"\n",
    " آ آئی آئیں آئے آتا آتی آتے آس آمدید آنا آنسہ آنی آنے آپ آگے آہ آہا آیا اب ابھی ابے\n",
    " ارے اس اسکا اسکی اسکے اسی اسے اف افوہ البتہ الف ان اندر انکا انکی انکے انہوں انہی انہیں اوئے اور اوپر\n",
    " اوہو اپ اپنا اپنوں اپنی اپنے اپنےآپ اکثر اگر اگرچہ اہاہا ایسا ایسی ایسے ایک بائیں بار بارے بالکل باوجود باہر\n",
    " بج بجے بخیر بشرطیکہ بعد بعض بغیر بلکہ بن بنا بناؤ بند بڑی بھر بھریں بھی بہت بہتر تاکہ تاہم تب تجھ\n",
    " تجھی تجھے ترا تری تلک تم تمام تمہارا تمہاروں تمہاری تمہارے تمہیں تو تک تھا تھی تھیں تھے تیرا تیری تیرے\n",
    " جا جاؤ جائیں جائے جاتا جاتی جاتے جانی جانے جب جبکہ جدھر جس جسے جن جناب جنہوں جنہیں جو جہاں جی جیسا\n",
    " جیسوں جیسی جیسے حالانکہ حالاں حصہ حضرت خاطر خالی خواہ خوب خود دائیں درمیان دریں دو دوران دوسرا دوسروں دوسری دوں\n",
    " دکھائیں دی دیئے دیا دیتا دیتی دیتے دیر دینا دینی دینے دیکھو دیں دیے دے ذریعے رکھا رکھتا رکھتی رکھتے رکھنا رکھنی\n",
    " رکھنے رکھو رکھی رکھے رہ رہا رہتا رہتی رہتے رہنا رہنی رہنے رہو رہی رہیں رہے ساتھ سامنے ساڑھے سب سبھی\n",
    " سراسر سمیت سوا سوائے سکا سکتا سکتے سہ سہی سی سے شاید شکریہ صاحب صاحبہ صرف ضرور طرح طرف طور علاوہ عین\n",
    " فقط فلاں فی قبل قطا لئے لائی لائے لاتا لاتی لاتے لانا لانی لانے لایا لو لوجی لوگوں لگ لگا لگتا\n",
    " لگتی لگی لگیں لگے لہذا لی لیا لیتا لیتی لیتے لیکن لیں لیے لے ماسوا مت مجھ مجھی مجھے محترم محترمہ محض\n",
    " مرا مرحبا مری مرے مزید مس مسز مسٹر مطابق مل مکرمی مگر مگھر مہربانی میرا میروں میری میرے میں نا نزدیک\n",
    " نما نہ نہیں نیز نیچے نے و وار واسطے واقعی والا والوں والی والے واہ وجہ ورنہ وغیرہ ولے وگرنہ وہ وہاں\n",
    " وہی وہیں ویسا ویسے ویں پاس پایا پر پس پلیز پون پونی پونے پھر پہ پہلا پہلی پہلے پیر پیچھے چاہئے\n",
    " چاہتے چاہیئے چاہے چلا چلو چلیں چلے چناچہ چند چونکہ چکی چکیں چکے ڈالنا ڈالنی ڈالنے ڈالے کئے کا کاش کب کبھی\n",
    " کدھر کر کرتا کرتی کرتے کرم کرنا کرنے کرو کریں کرے کس کسی کسے کم کن کنہیں کو کوئی کون کونسا\n",
    " کونسے کچھ کہ کہا کہاں کہہ کہی کہیں کہے کی کیا کیسا کیسے کیونکر کیونکہ کیوں کیے کے گئی گئے گا گنا\n",
    " گو گویا گی گیا ہائیں ہائے ہاں ہر ہرچند ہرگز ہم ہمارا ہماری ہمارے ہمی ہمیں ہو ہوئی ہوئیں ہوئے ہوا\n",
    " ہوبہو ہوتا ہوتی ہوتیں ہوتے ہونا ہونگے ہونی ہونے ہوں ہی ہیلو ہیں ہے یا یات یعنی یک یہ یہاں یہی یہیں\n",
    "\"\"\".split())\n",
    "\n",
    "\n",
    "def remove_stopwords(text: str):\n",
    "    return \" \".join(word for word in text.split() if word not in STOP_WORDS)"
   ]
  },
  {
   "cell_type": "code",
   "execution_count": 9,
   "id": "5898c459",
   "metadata": {},
   "outputs": [
    {
     "data": {
      "text/plain": [
       "430"
      ]
     },
     "execution_count": 9,
     "metadata": {},
     "output_type": "execute_result"
    }
   ],
   "source": [
    "len(STOP_WORDS)"
   ]
  },
  {
   "cell_type": "code",
   "execution_count": 10,
   "id": "b4f6d8ad",
   "metadata": {
    "scrolled": false
   },
   "outputs": [
    {
     "name": "stdout",
     "output_type": "stream",
     "text": [
      "frozenset({'ایسا', 'حصہ', 'نما', 'جس', 'افوہ', 'جبکہ', 'نا', 'ویں', 'تاکہ', 'جیسے', 'فقط', 'لگیں', 'لگے', 'گی', 'تلک', 'اوپر', 'دیتے', 'رکھتے', 'رہتی', 'ان', 'تم', 'تمہارے', 'ڈالنے', 'بخیر', 'سہ', 'صرف', 'بائیں', 'لہذا', 'بہت', 'لگی', 'آئے', 'آئی', 'حالاں', 'والے', 'تاہم', 'کونسا', 'حالانکہ', 'لیتا', 'یہی', 'جانی', 'ہوتی', 'وہی', 'دو', 'ہرگز', 'جسے', 'ایسے', 'تجھی', 'شکریہ', 'جو', 'رکھنا', 'کیا', 'وگرنہ', 'ویسے', 'وہیں', 'لے', 'تیری', 'چلے', 'بڑی', 'طرف', 'کسی', 'پونی', 'صاحب', 'دینا', 'رہ', 'مل', 'اسکا', 'آئیں', 'اپنی', 'جدھر', 'پھر', 'کرنے', 'کرتے', 'ہائے', 'دیکھو', 'کم', 'مگر', 'پہلی', 'واسطے', 'ہوئے', 'کرنا', 'علاوہ', 'لیں', 'کر', 'شاید', 'مجھے', 'اہاہا', 'بغیر', 'جاتا', 'اسکے', 'پہ', 'پونے', 'چلو', 'دے', 'بالکل', 'پیر', 'بند', 'مرا', 'چلا', 'سکتے', 'ہرچند', 'لگتا', 'کون', 'جاؤ', 'والوں', 'تھا', 'رہتا', 'چاہیئے', 'تری', 'سوا', 'اگرچہ', 'کرم', 'انکے', 'دوسری', 'کرو', 'رکھنے', 'ڈالنی', 'ہونی', 'ہوبہو', 'لوگوں', 'بن', 'لیا', 'بجے', 'ہونے', 'ہوں', 'بج', 'نیز', 'یعنی', 'مری', 'چناچہ', 'ڈالے', 'دکھائیں', 'ورنہ', 'کے', 'صاحبہ', 'گو', 'کن', 'خالی', 'اس', 'بارے', 'بشرطیکہ', 'کا', 'ہیں', 'سامنے', 'آہا', 'ابھی', 'جاتی', 'ہماری', 'گئی', 'دیں', 'ہے', 'رہے', 'لگا', 'خواہ', 'لئے', 'بنا', 'دیر', 'جناب', 'کسے', 'جانے', 'لائے', 'کیسے', 'ارے', 'اپنوں', 'رکھتا', 'ہی', 'یہاں', 'پایا', 'یات', 'میروں', 'رہنے', 'دائیں', 'لاتی', 'آپ', 'کرتی', 'ہاں', 'ایسی', 'بلکہ', 'کیونکہ', 'کرے', 'اوئے', 'فی', 'آنے', 'رہنی', 'ہیلو', 'رہتے', 'چکیں', 'آ', 'رکھو', 'طور', 'وہاں', 'لیکن', 'دینے', 'وغیرہ', 'اسے', 'بار', 'رکھنی', 'اف', 'جہاں', 'نہیں', 'چند', 'جن', 'الف', 'محترمہ', 'نہ', 'محترم', 'جائے', 'سب', 'پیچھے', 'تمہارا', 'رہا', 'ہوئی', 'کیے', 'تمہیں', 'انکا', 'آتا', 'دوران', 'میں', 'ہم', 'رہیں', 'قبل', 'آمدید', 'میرے', 'آیا', 'ہونا', 'اب', 'محض', 'لیتی', 'پہلے', 'آتی', 'تب', 'چاہتے', 'سے', 'سکا', 'ڈالنا', 'کریں', 'ہمارا', 'چاہے', 'دوسرا', 'و', 'ترا', 'دوں', 'جنہیں', 'تیرا', 'آنا', 'اکثر', 'کہ', 'ہوئیں', 'تجھ', 'چاہئے', 'اگر', 'حضرت', 'کہہ', 'لایا', 'جاتے', 'پون', 'رکھا', 'سکتا', 'کچھ', 'اندر', 'بہتر', 'یہ', 'کوئی', 'انہیں', 'لگتی', 'مزید', 'خاطر', 'بھی', 'رکھے', 'مجھی', 'خوب', 'سمیت', 'ابے', 'ایک', 'انکی', 'جا', 'مسٹر', 'کبھی', 'کونسے', 'کی', 'دیتا', 'اپنےآپ', 'گا', 'پاس', 'مسز', 'اوہو', 'کئے', 'تک', 'سی', 'چلیں', 'یا', 'جی', 'نے', 'وجہ', 'میرا', 'کاش', 'اسکی', 'کیونکر', 'تجھے', 'کہی', 'درمیان', 'دیتی', 'والی', 'باہر', 'جیسی', 'البتہ', 'لاتا', 'اپ', 'چکے', 'لو', 'لوجی', 'انہی', 'کب', 'مگھر', 'میری', 'کہا', 'آتے', 'چونکہ', 'فلاں', 'جیسوں', 'تھی', 'ذریعے', 'رکھتی', 'ویسا', 'بھریں', 'خود', 'سہی', 'ہو', 'اور', 'دوسروں', 'مہربانی', 'ہوتا', 'عین', 'جنہوں', 'کس', 'جائیں', 'دیے', 'لانا', 'لیتے', 'ہونگے', 'ہمیں', 'مکرمی', 'جب', 'دریں', 'بعض', 'لاتے', 'دیئے', 'تیرے', 'یک', 'پر', 'کرتا', 'سراسر', 'پہلا', 'تھے', 'مت', 'سبھی', 'ماسوا', 'مجھ', 'ہمارے', 'کیسا', 'اپنے', 'لگ', 'والا', 'تمہاری', 'گنا', 'جیسا', 'رہنا', 'چکی', 'آنی', 'بعد', 'ولے', 'دیا', 'نیچے', 'گئے', 'گیا', 'رہی', 'کو', 'دی', 'طرح', 'بناؤ', 'کیوں', 'تو', 'کنہیں', 'مرے', 'لانے', 'آس', 'ساتھ', 'دینی', 'ہر', 'تھیں', 'مطابق', 'انہوں', 'ہائیں', 'رکھی', 'لیے', 'ہوتے', 'تمام', 'واقعی', 'بھر', 'لائی', 'پس', 'وار', 'لانی', 'مس', 'ساڑھے', 'اپنا', 'ہوا', 'باوجود', 'قطا', 'نزدیک', 'اسی', 'سوائے', 'یہیں', 'کہاں', 'مرحبا', 'رہو', 'آگے', 'لی', 'تمہاروں', 'آہ', 'کہے', 'ہوتیں', 'پلیز', 'کدھر', 'آنسہ', 'کہیں', 'وہ', 'واہ', 'ہمی', 'ضرور', 'گویا'})\n"
     ]
    }
   ],
   "source": [
    "print(STOP_WORDS)"
   ]
  },
  {
   "cell_type": "code",
   "execution_count": 11,
   "id": "2ff1b008",
   "metadata": {},
   "outputs": [
    {
     "data": {
      "text/plain": [
       "1.0       1\n",
       "1002.0    1\n",
       "1011.0    1\n",
       "1010.0    1\n",
       "1009.0    1\n",
       "         ..\n",
       "505.0     1\n",
       "504.0     1\n",
       "503.0     1\n",
       "502.0     1\n",
       "1500.0    1\n",
       "Name: Review Id, Length: 1482, dtype: int64"
      ]
     },
     "execution_count": 11,
     "metadata": {},
     "output_type": "execute_result"
    }
   ],
   "source": [
    "data['Review Id'].value_counts()"
   ]
  },
  {
   "cell_type": "code",
   "execution_count": 12,
   "id": "6fb84bb8",
   "metadata": {},
   "outputs": [],
   "source": [
    "# Removing Stops_Words\n",
    "\n",
    "import urduhack"
   ]
  },
  {
   "cell_type": "code",
   "execution_count": 13,
   "id": "319dad2b",
   "metadata": {},
   "outputs": [],
   "source": [
    "def removing_unwanted_data(text):\n",
    "    text=re.sub(r'https?:\\/\\/.*[\\r\\n]*','',text,flags=re.MULTILINE)\n",
    "    text=re.sub(r'\\<a href','',text)\n",
    "    text=re.sub(r'&amp;','',text)\n",
    "    text=re.sub(r'[_\"\\-;%.,!?:#$@\\[\\]/]','',text)\n",
    "    text=re.sub(r'<br />','',text)\n",
    "    text=re.sub(r'\\'','',text)\n",
    "    \n",
    "    \n",
    "    text =  nltk.WordPunctTokenizer().tokenize(text)\n",
    "        \n",
    "    return text"
   ]
  },
  {
   "cell_type": "code",
   "execution_count": 14,
   "id": "c4c3b32a",
   "metadata": {},
   "outputs": [
    {
     "data": {
      "text/html": [
       "<div>\n",
       "<style scoped>\n",
       "    .dataframe tbody tr th:only-of-type {\n",
       "        vertical-align: middle;\n",
       "    }\n",
       "\n",
       "    .dataframe tbody tr th {\n",
       "        vertical-align: top;\n",
       "    }\n",
       "\n",
       "    .dataframe thead th {\n",
       "        text-align: right;\n",
       "    }\n",
       "</style>\n",
       "<table border=\"1\" class=\"dataframe\">\n",
       "  <thead>\n",
       "    <tr style=\"text-align: right;\">\n",
       "      <th></th>\n",
       "      <th>ID</th>\n",
       "      <th>Sentences</th>\n",
       "      <th>Annotator 1</th>\n",
       "      <th>Annotator 2</th>\n",
       "      <th>Annotator 3</th>\n",
       "    </tr>\n",
       "  </thead>\n",
       "  <tbody>\n",
       "    <tr>\n",
       "      <th>0</th>\n",
       "      <td>1.0</td>\n",
       "      <td>بھنڈی بنائی تھی بہت اچھی بنی تھ</td>\n",
       "      <td>pos</td>\n",
       "      <td>pos</td>\n",
       "      <td>pos</td>\n",
       "    </tr>\n",
       "    <tr>\n",
       "      <th>1</th>\n",
       "      <td>2.0</td>\n",
       "      <td>آہاں نائس بارکان ویسے اس موسم میں بھنڈی</td>\n",
       "      <td>pos</td>\n",
       "      <td>pos</td>\n",
       "      <td>pos</td>\n",
       "    </tr>\n",
       "    <tr>\n",
       "      <th>2</th>\n",
       "      <td>3.0</td>\n",
       "      <td>سوری ہمارے لیے موسم کوئی معنے رکھتے لوکیشن اہم...</td>\n",
       "      <td>neu</td>\n",
       "      <td>neu</td>\n",
       "      <td>neu</td>\n",
       "    </tr>\n",
       "    <tr>\n",
       "      <th>3</th>\n",
       "      <td>4.0</td>\n",
       "      <td>چکن کڑاہی</td>\n",
       "      <td>neu</td>\n",
       "      <td>neu</td>\n",
       "      <td>neu</td>\n",
       "    </tr>\n",
       "    <tr>\n",
       "      <th>4</th>\n",
       "      <td>5.0</td>\n",
       "      <td>ہاں تو بنا کے ہی کھائی نا</td>\n",
       "      <td>neu</td>\n",
       "      <td>neu</td>\n",
       "      <td>neu</td>\n",
       "    </tr>\n",
       "  </tbody>\n",
       "</table>\n",
       "</div>"
      ],
      "text/plain": [
       "    ID                                          Sentences Annotator 1  \\\n",
       "0  1.0                    بھنڈی بنائی تھی بہت اچھی بنی تھ         pos   \n",
       "1  2.0            آہاں نائس بارکان ویسے اس موسم میں بھنڈی         pos   \n",
       "2  3.0  سوری ہمارے لیے موسم کوئی معنے رکھتے لوکیشن اہم...         neu   \n",
       "3  4.0                                          چکن کڑاہی         neu   \n",
       "4  5.0                         ہاں تو بنا کے ہی کھائی نا          neu   \n",
       "\n",
       "  Annotator 2 Annotator 3  \n",
       "0         pos         pos  \n",
       "1         pos         pos  \n",
       "2         neu         neu  \n",
       "3         neu         neu  \n",
       "4         neu         neu  "
      ]
     },
     "execution_count": 14,
     "metadata": {},
     "output_type": "execute_result"
    }
   ],
   "source": [
    "data.columns =['ID','Sentences','Annotator 1','Annotator 2','Annotator 3']\n",
    "data.head()"
   ]
  },
  {
   "cell_type": "code",
   "execution_count": 15,
   "id": "c21173f7",
   "metadata": {},
   "outputs": [
    {
     "data": {
      "text/html": [
       "<div>\n",
       "<style scoped>\n",
       "    .dataframe tbody tr th:only-of-type {\n",
       "        vertical-align: middle;\n",
       "    }\n",
       "\n",
       "    .dataframe tbody tr th {\n",
       "        vertical-align: top;\n",
       "    }\n",
       "\n",
       "    .dataframe thead th {\n",
       "        text-align: right;\n",
       "    }\n",
       "</style>\n",
       "<table border=\"1\" class=\"dataframe\">\n",
       "  <thead>\n",
       "    <tr style=\"text-align: right;\">\n",
       "      <th></th>\n",
       "      <th>ID</th>\n",
       "      <th>Sentences</th>\n",
       "      <th>Annotator 1</th>\n",
       "      <th>Annotator 2</th>\n",
       "      <th>Annotator 3</th>\n",
       "      <th>text_cleaned</th>\n",
       "    </tr>\n",
       "  </thead>\n",
       "  <tbody>\n",
       "    <tr>\n",
       "      <th>0</th>\n",
       "      <td>1.0</td>\n",
       "      <td>بھنڈی بنائی تھی بہت اچھی بنی تھ</td>\n",
       "      <td>pos</td>\n",
       "      <td>pos</td>\n",
       "      <td>pos</td>\n",
       "      <td>[بھنڈی, بنائی, تھی, بہت, اچھی, بنی, تھ]</td>\n",
       "    </tr>\n",
       "    <tr>\n",
       "      <th>1</th>\n",
       "      <td>2.0</td>\n",
       "      <td>آہاں نائس بارکان ویسے اس موسم میں بھنڈی</td>\n",
       "      <td>pos</td>\n",
       "      <td>pos</td>\n",
       "      <td>pos</td>\n",
       "      <td>[آہاں, نائس, بارکان, ویسے, اس, موسم, میں, بھنڈی]</td>\n",
       "    </tr>\n",
       "    <tr>\n",
       "      <th>2</th>\n",
       "      <td>3.0</td>\n",
       "      <td>سوری ہمارے لیے موسم کوئی معنے رکھتے لوکیشن اہم...</td>\n",
       "      <td>neu</td>\n",
       "      <td>neu</td>\n",
       "      <td>neu</td>\n",
       "      <td>[سوری, ہمارے, لیے, موسم, کوئی, معنے, رکھتے, لو...</td>\n",
       "    </tr>\n",
       "    <tr>\n",
       "      <th>3</th>\n",
       "      <td>4.0</td>\n",
       "      <td>چکن کڑاہی</td>\n",
       "      <td>neu</td>\n",
       "      <td>neu</td>\n",
       "      <td>neu</td>\n",
       "      <td>[چکن, کڑاہی]</td>\n",
       "    </tr>\n",
       "    <tr>\n",
       "      <th>4</th>\n",
       "      <td>5.0</td>\n",
       "      <td>ہاں تو بنا کے ہی کھائی نا</td>\n",
       "      <td>neu</td>\n",
       "      <td>neu</td>\n",
       "      <td>neu</td>\n",
       "      <td>[ہاں, تو, بنا, کے, ہی, کھائی, نا]</td>\n",
       "    </tr>\n",
       "  </tbody>\n",
       "</table>\n",
       "</div>"
      ],
      "text/plain": [
       "    ID                                          Sentences Annotator 1  \\\n",
       "0  1.0                    بھنڈی بنائی تھی بہت اچھی بنی تھ         pos   \n",
       "1  2.0            آہاں نائس بارکان ویسے اس موسم میں بھنڈی         pos   \n",
       "2  3.0  سوری ہمارے لیے موسم کوئی معنے رکھتے لوکیشن اہم...         neu   \n",
       "3  4.0                                          چکن کڑاہی         neu   \n",
       "4  5.0                         ہاں تو بنا کے ہی کھائی نا          neu   \n",
       "\n",
       "  Annotator 2 Annotator 3                                       text_cleaned  \n",
       "0         pos         pos            [بھنڈی, بنائی, تھی, بہت, اچھی, بنی, تھ]  \n",
       "1         pos         pos   [آہاں, نائس, بارکان, ویسے, اس, موسم, میں, بھنڈی]  \n",
       "2         neu         neu  [سوری, ہمارے, لیے, موسم, کوئی, معنے, رکھتے, لو...  \n",
       "3         neu         neu                                       [چکن, کڑاہی]  \n",
       "4         neu         neu                  [ہاں, تو, بنا, کے, ہی, کھائی, نا]  "
      ]
     },
     "execution_count": 15,
     "metadata": {},
     "output_type": "execute_result"
    }
   ],
   "source": [
    "\n",
    "data['text_cleaned']= list(map(removing_unwanted_data,data.Sentences))\n",
    "data.head()"
   ]
  },
  {
   "cell_type": "code",
   "execution_count": 16,
   "id": "55587689",
   "metadata": {},
   "outputs": [],
   "source": [
    "# Lemmatization\n",
    "\n",
    "import json\n",
    "\n",
    "from urduhack.config import LEMMA_LOOKUP_TABLE_PATH\n",
    "\n",
    "_WORD2LEMMA = None"
   ]
  },
  {
   "cell_type": "code",
   "execution_count": 17,
   "id": "418b04b2",
   "metadata": {},
   "outputs": [],
   "source": [
    "def lemma_lookup(text, lookup_path: str = LEMMA_LOOKUP_TABLE_PATH) -> list:\n",
    "    tokens = text\n",
    "    global _WORD2LEMMA\n",
    "    if _WORD2LEMMA is None:\n",
    "        with open(lookup_path, \"r\", encoding=\"utf-8\") as file:\n",
    "            _WORD2LEMMA = json.load(file)\n",
    "\n",
    "    return [_WORD2LEMMA[word] if word in _WORD2LEMMA else word for word in tokens]\n",
    "\n",
    "data['Lemmatized'] =list(map(lemma_lookup,data.text_cleaned))"
   ]
  },
  {
   "cell_type": "code",
   "execution_count": 18,
   "id": "43541aec",
   "metadata": {},
   "outputs": [
    {
     "data": {
      "text/html": [
       "<div>\n",
       "<style scoped>\n",
       "    .dataframe tbody tr th:only-of-type {\n",
       "        vertical-align: middle;\n",
       "    }\n",
       "\n",
       "    .dataframe tbody tr th {\n",
       "        vertical-align: top;\n",
       "    }\n",
       "\n",
       "    .dataframe thead th {\n",
       "        text-align: right;\n",
       "    }\n",
       "</style>\n",
       "<table border=\"1\" class=\"dataframe\">\n",
       "  <thead>\n",
       "    <tr style=\"text-align: right;\">\n",
       "      <th></th>\n",
       "      <th>ID</th>\n",
       "      <th>Sentences</th>\n",
       "      <th>Annotator 1</th>\n",
       "      <th>Annotator 2</th>\n",
       "      <th>Annotator 3</th>\n",
       "      <th>text_cleaned</th>\n",
       "      <th>Lemmatized</th>\n",
       "    </tr>\n",
       "  </thead>\n",
       "  <tbody>\n",
       "    <tr>\n",
       "      <th>0</th>\n",
       "      <td>1.0</td>\n",
       "      <td>بھنڈی بنائی تھی بہت اچھی بنی تھ</td>\n",
       "      <td>pos</td>\n",
       "      <td>pos</td>\n",
       "      <td>pos</td>\n",
       "      <td>[بھنڈی, بنائی, تھی, بہت, اچھی, بنی, تھ]</td>\n",
       "      <td>[بھنڈی, بننا, ہونا, بہت, اچھی, بننا, تھ]</td>\n",
       "    </tr>\n",
       "    <tr>\n",
       "      <th>1</th>\n",
       "      <td>2.0</td>\n",
       "      <td>آہاں نائس بارکان ویسے اس موسم میں بھنڈی</td>\n",
       "      <td>pos</td>\n",
       "      <td>pos</td>\n",
       "      <td>pos</td>\n",
       "      <td>[آہاں, نائس, بارکان, ویسے, اس, موسم, میں, بھنڈی]</td>\n",
       "      <td>[آہاں, نائس, بارکان, ویسا, میں, موسم, میں, بھنڈی]</td>\n",
       "    </tr>\n",
       "    <tr>\n",
       "      <th>2</th>\n",
       "      <td>3.0</td>\n",
       "      <td>سوری ہمارے لیے موسم کوئی معنے رکھتے لوکیشن اہم...</td>\n",
       "      <td>neu</td>\n",
       "      <td>neu</td>\n",
       "      <td>neu</td>\n",
       "      <td>[سوری, ہمارے, لیے, موسم, کوئی, معنے, رکھتے, لو...</td>\n",
       "      <td>[سوری, ہمارہ, لینا, موسم, کوئی, معنے, رکھنا, ل...</td>\n",
       "    </tr>\n",
       "    <tr>\n",
       "      <th>3</th>\n",
       "      <td>4.0</td>\n",
       "      <td>چکن کڑاہی</td>\n",
       "      <td>neu</td>\n",
       "      <td>neu</td>\n",
       "      <td>neu</td>\n",
       "      <td>[چکن, کڑاہی]</td>\n",
       "      <td>[چکن, کڑاہی]</td>\n",
       "    </tr>\n",
       "    <tr>\n",
       "      <th>4</th>\n",
       "      <td>5.0</td>\n",
       "      <td>ہاں تو بنا کے ہی کھائی نا</td>\n",
       "      <td>neu</td>\n",
       "      <td>neu</td>\n",
       "      <td>neu</td>\n",
       "      <td>[ہاں, تو, بنا, کے, ہی, کھائی, نا]</td>\n",
       "      <td>[ہاں, ت, بننا, کم, ہی, کھائی, نا]</td>\n",
       "    </tr>\n",
       "  </tbody>\n",
       "</table>\n",
       "</div>"
      ],
      "text/plain": [
       "    ID                                          Sentences Annotator 1  \\\n",
       "0  1.0                    بھنڈی بنائی تھی بہت اچھی بنی تھ         pos   \n",
       "1  2.0            آہاں نائس بارکان ویسے اس موسم میں بھنڈی         pos   \n",
       "2  3.0  سوری ہمارے لیے موسم کوئی معنے رکھتے لوکیشن اہم...         neu   \n",
       "3  4.0                                          چکن کڑاہی         neu   \n",
       "4  5.0                         ہاں تو بنا کے ہی کھائی نا          neu   \n",
       "\n",
       "  Annotator 2 Annotator 3                                       text_cleaned  \\\n",
       "0         pos         pos            [بھنڈی, بنائی, تھی, بہت, اچھی, بنی, تھ]   \n",
       "1         pos         pos   [آہاں, نائس, بارکان, ویسے, اس, موسم, میں, بھنڈی]   \n",
       "2         neu         neu  [سوری, ہمارے, لیے, موسم, کوئی, معنے, رکھتے, لو...   \n",
       "3         neu         neu                                       [چکن, کڑاہی]   \n",
       "4         neu         neu                  [ہاں, تو, بنا, کے, ہی, کھائی, نا]   \n",
       "\n",
       "                                          Lemmatized  \n",
       "0           [بھنڈی, بننا, ہونا, بہت, اچھی, بننا, تھ]  \n",
       "1  [آہاں, نائس, بارکان, ویسا, میں, موسم, میں, بھنڈی]  \n",
       "2  [سوری, ہمارہ, لینا, موسم, کوئی, معنے, رکھنا, ل...  \n",
       "3                                       [چکن, کڑاہی]  \n",
       "4                  [ہاں, ت, بننا, کم, ہی, کھائی, نا]  "
      ]
     },
     "execution_count": 18,
     "metadata": {},
     "output_type": "execute_result"
    }
   ],
   "source": [
    "data.head()"
   ]
  },
  {
   "cell_type": "code",
   "execution_count": 19,
   "id": "26d4434b",
   "metadata": {},
   "outputs": [
    {
     "name": "stdout",
     "output_type": "stream",
     "text": [
      "The total number of columns are = 3619\n",
      "Shape of arrays = (1507, 3619)\n"
     ]
    },
    {
     "name": "stderr",
     "output_type": "stream",
     "text": [
      "E:\\anaconda\\envs\\tensorflow\\lib\\site-packages\\sklearn\\utils\\deprecation.py:87: FutureWarning: Function get_feature_names is deprecated; get_feature_names is deprecated in 1.0 and will be removed in 1.2. Please use get_feature_names_out instead.\n",
      "  warnings.warn(msg, category=FutureWarning)\n"
     ]
    }
   ],
   "source": [
    "# Bag of word (BOW)\n",
    "\n",
    "BOW_convert = CountVectorizer(tokenizer=lambda doc: doc, lowercase=False)\n",
    "x = BOW_convert.fit_transform(data['text_cleaned'])\n",
    "\n",
    "words = BOW_convert.get_feature_names()\n",
    "print(\"The total number of columns are =\",len(words))\n",
    "print('Shape of arrays =',x.toarray().shape)\n"
   ]
  },
  {
   "cell_type": "code",
   "execution_count": null,
   "id": "5f595d33",
   "metadata": {},
   "outputs": [],
   "source": []
  },
  {
   "cell_type": "code",
   "execution_count": 20,
   "id": "edfda6c7",
   "metadata": {},
   "outputs": [
    {
     "data": {
      "text/html": [
       "<div>\n",
       "<style scoped>\n",
       "    .dataframe tbody tr th:only-of-type {\n",
       "        vertical-align: middle;\n",
       "    }\n",
       "\n",
       "    .dataframe tbody tr th {\n",
       "        vertical-align: top;\n",
       "    }\n",
       "\n",
       "    .dataframe thead th {\n",
       "        text-align: right;\n",
       "    }\n",
       "</style>\n",
       "<table border=\"1\" class=\"dataframe\">\n",
       "  <thead>\n",
       "    <tr style=\"text-align: right;\">\n",
       "      <th></th>\n",
       "      <th>ID</th>\n",
       "      <th>Sentences</th>\n",
       "      <th>Annotator 1</th>\n",
       "      <th>Annotator 2</th>\n",
       "      <th>Annotator 3</th>\n",
       "      <th>text_cleaned</th>\n",
       "      <th>Lemmatized</th>\n",
       "    </tr>\n",
       "  </thead>\n",
       "  <tbody>\n",
       "    <tr>\n",
       "      <th>0</th>\n",
       "      <td>1.0</td>\n",
       "      <td>بھنڈی بنائی تھی بہت اچھی بنی تھ</td>\n",
       "      <td>pos</td>\n",
       "      <td>pos</td>\n",
       "      <td>pos</td>\n",
       "      <td>[بھنڈی, بنائی, تھی, بہت, اچھی, بنی, تھ]</td>\n",
       "      <td>[بھنڈی, بننا, ہونا, بہت, اچھی, بننا, تھ]</td>\n",
       "    </tr>\n",
       "    <tr>\n",
       "      <th>1</th>\n",
       "      <td>2.0</td>\n",
       "      <td>آہاں نائس بارکان ویسے اس موسم میں بھنڈی</td>\n",
       "      <td>pos</td>\n",
       "      <td>pos</td>\n",
       "      <td>pos</td>\n",
       "      <td>[آہاں, نائس, بارکان, ویسے, اس, موسم, میں, بھنڈی]</td>\n",
       "      <td>[آہاں, نائس, بارکان, ویسا, میں, موسم, میں, بھنڈی]</td>\n",
       "    </tr>\n",
       "    <tr>\n",
       "      <th>2</th>\n",
       "      <td>3.0</td>\n",
       "      <td>سوری ہمارے لیے موسم کوئی معنے رکھتے لوکیشن اہم...</td>\n",
       "      <td>neu</td>\n",
       "      <td>neu</td>\n",
       "      <td>neu</td>\n",
       "      <td>[سوری, ہمارے, لیے, موسم, کوئی, معنے, رکھتے, لو...</td>\n",
       "      <td>[سوری, ہمارہ, لینا, موسم, کوئی, معنے, رکھنا, ل...</td>\n",
       "    </tr>\n",
       "    <tr>\n",
       "      <th>3</th>\n",
       "      <td>4.0</td>\n",
       "      <td>چکن کڑاہی</td>\n",
       "      <td>neu</td>\n",
       "      <td>neu</td>\n",
       "      <td>neu</td>\n",
       "      <td>[چکن, کڑاہی]</td>\n",
       "      <td>[چکن, کڑاہی]</td>\n",
       "    </tr>\n",
       "    <tr>\n",
       "      <th>4</th>\n",
       "      <td>5.0</td>\n",
       "      <td>ہاں تو بنا کے ہی کھائی نا</td>\n",
       "      <td>neu</td>\n",
       "      <td>neu</td>\n",
       "      <td>neu</td>\n",
       "      <td>[ہاں, تو, بنا, کے, ہی, کھائی, نا]</td>\n",
       "      <td>[ہاں, ت, بننا, کم, ہی, کھائی, نا]</td>\n",
       "    </tr>\n",
       "  </tbody>\n",
       "</table>\n",
       "</div>"
      ],
      "text/plain": [
       "    ID                                          Sentences Annotator 1  \\\n",
       "0  1.0                    بھنڈی بنائی تھی بہت اچھی بنی تھ         pos   \n",
       "1  2.0            آہاں نائس بارکان ویسے اس موسم میں بھنڈی         pos   \n",
       "2  3.0  سوری ہمارے لیے موسم کوئی معنے رکھتے لوکیشن اہم...         neu   \n",
       "3  4.0                                          چکن کڑاہی         neu   \n",
       "4  5.0                         ہاں تو بنا کے ہی کھائی نا          neu   \n",
       "\n",
       "  Annotator 2 Annotator 3                                       text_cleaned  \\\n",
       "0         pos         pos            [بھنڈی, بنائی, تھی, بہت, اچھی, بنی, تھ]   \n",
       "1         pos         pos   [آہاں, نائس, بارکان, ویسے, اس, موسم, میں, بھنڈی]   \n",
       "2         neu         neu  [سوری, ہمارے, لیے, موسم, کوئی, معنے, رکھتے, لو...   \n",
       "3         neu         neu                                       [چکن, کڑاہی]   \n",
       "4         neu         neu                  [ہاں, تو, بنا, کے, ہی, کھائی, نا]   \n",
       "\n",
       "                                          Lemmatized  \n",
       "0           [بھنڈی, بننا, ہونا, بہت, اچھی, بننا, تھ]  \n",
       "1  [آہاں, نائس, بارکان, ویسا, میں, موسم, میں, بھنڈی]  \n",
       "2  [سوری, ہمارہ, لینا, موسم, کوئی, معنے, رکھنا, ل...  \n",
       "3                                       [چکن, کڑاہی]  \n",
       "4                  [ہاں, ت, بننا, کم, ہی, کھائی, نا]  "
      ]
     },
     "execution_count": 20,
     "metadata": {},
     "output_type": "execute_result"
    }
   ],
   "source": [
    "df =  data.copy()\n",
    "df.head()"
   ]
  },
  {
   "cell_type": "code",
   "execution_count": 21,
   "id": "633f2dcc",
   "metadata": {},
   "outputs": [
    {
     "data": {
      "image/png": "[encoded data removed]",
      "text/plain": [
       "<Figure size 640x480 with 1 Axes>"
      ]
     },
     "metadata": {},
     "output_type": "display_data"
    }
   ],
   "source": [
    "sns.countplot( x = 'Annotator 1', data = df );"
   ]
  },
  {
   "cell_type": "code",
   "execution_count": null,
   "id": "24d3ccf3",
   "metadata": {},
   "outputs": [],
   "source": []
  },
  {
   "cell_type": "code",
   "execution_count": 22,
   "id": "3981598b",
   "metadata": {},
   "outputs": [
    {
     "name": "stdout",
     "output_type": "stream",
     "text": [
      "Shape of Training Set  (1507, 5) \n",
      "Shape of Testing Set  (1507, 5)\n"
     ]
    }
   ],
   "source": [
    "train =  pd.read_excel('UrduTextAnnotatedData.xlsx')\n",
    "test =   pd.read_excel('UrduTextAnnotatedData.xlsx')\n",
    "print('Shape of Training Set ' , train.shape,'\\nShape of Testing Set ', test.shape)"
   ]
  },
  {
   "cell_type": "code",
   "execution_count": 23,
   "id": "75beeb52",
   "metadata": {},
   "outputs": [
    {
     "name": "stdout",
     "output_type": "stream",
     "text": [
      "(3014, 5)\n"
     ]
    }
   ],
   "source": [
    "data =  pd.concat([train, test]).reset_index(drop=True)\n",
    "print(data.shape)"
   ]
  },
  {
   "cell_type": "code",
   "execution_count": 24,
   "id": "4bd955f6",
   "metadata": {},
   "outputs": [
    {
     "data": {
      "text/html": [
       "<div>\n",
       "<style scoped>\n",
       "    .dataframe tbody tr th:only-of-type {\n",
       "        vertical-align: middle;\n",
       "    }\n",
       "\n",
       "    .dataframe tbody tr th {\n",
       "        vertical-align: top;\n",
       "    }\n",
       "\n",
       "    .dataframe thead th {\n",
       "        text-align: right;\n",
       "    }\n",
       "</style>\n",
       "<table border=\"1\" class=\"dataframe\">\n",
       "  <thead>\n",
       "    <tr style=\"text-align: right;\">\n",
       "      <th></th>\n",
       "      <th>Review Id</th>\n",
       "      <th>Text</th>\n",
       "      <th>Annotator 1</th>\n",
       "      <th>Annotator 2</th>\n",
       "      <th>Annotator 3</th>\n",
       "    </tr>\n",
       "  </thead>\n",
       "  <tbody>\n",
       "    <tr>\n",
       "      <th>0</th>\n",
       "      <td>1.0</td>\n",
       "      <td>بھنڈی بنائی تھی بہت اچھی بنی تھ</td>\n",
       "      <td>pos</td>\n",
       "      <td>pos</td>\n",
       "      <td>pos</td>\n",
       "    </tr>\n",
       "    <tr>\n",
       "      <th>1</th>\n",
       "      <td>2.0</td>\n",
       "      <td>آہاں نائس بارکان ویسے اس موسم میں بھنڈی</td>\n",
       "      <td>pos</td>\n",
       "      <td>pos</td>\n",
       "      <td>pos</td>\n",
       "    </tr>\n",
       "    <tr>\n",
       "      <th>2</th>\n",
       "      <td>3.0</td>\n",
       "      <td>سوری ہمارے لیے موسم کوئی معنے رکھتے لوکیشن اہم...</td>\n",
       "      <td>neu</td>\n",
       "      <td>neu</td>\n",
       "      <td>neu</td>\n",
       "    </tr>\n",
       "    <tr>\n",
       "      <th>3</th>\n",
       "      <td>4.0</td>\n",
       "      <td>چکن کڑاہی</td>\n",
       "      <td>neu</td>\n",
       "      <td>neu</td>\n",
       "      <td>neu</td>\n",
       "    </tr>\n",
       "    <tr>\n",
       "      <th>4</th>\n",
       "      <td>5.0</td>\n",
       "      <td>ہاں تو بنا کے ہی کھائی نا</td>\n",
       "      <td>neu</td>\n",
       "      <td>neu</td>\n",
       "      <td>neu</td>\n",
       "    </tr>\n",
       "  </tbody>\n",
       "</table>\n",
       "</div>"
      ],
      "text/plain": [
       "   Review Id                                               Text Annotator 1  \\\n",
       "0        1.0                    بھنڈی بنائی تھی بہت اچھی بنی تھ         pos   \n",
       "1        2.0            آہاں نائس بارکان ویسے اس موسم میں بھنڈی         pos   \n",
       "2        3.0  سوری ہمارے لیے موسم کوئی معنے رکھتے لوکیشن اہم...         neu   \n",
       "3        4.0                                          چکن کڑاہی         neu   \n",
       "4        5.0                         ہاں تو بنا کے ہی کھائی نا          neu   \n",
       "\n",
       "  Annotator 2 Annotator 3  \n",
       "0         pos         pos  \n",
       "1         pos         pos  \n",
       "2         neu         neu  \n",
       "3         neu         neu  \n",
       "4         neu         neu  "
      ]
     },
     "execution_count": 24,
     "metadata": {},
     "output_type": "execute_result"
    }
   ],
   "source": [
    "df =  data.copy()\n",
    "df.head()"
   ]
  },
  {
   "cell_type": "code",
   "execution_count": 25,
   "id": "9f35928e",
   "metadata": {},
   "outputs": [],
   "source": [
    "le = LabelEncoder()\n",
    "le.fit(df['Annotator 1'])\n",
    "df['encoded_Annotator 1'] = le.transform(df['Annotator 1'])"
   ]
  },
  {
   "cell_type": "code",
   "execution_count": 26,
   "id": "6a5931b4",
   "metadata": {},
   "outputs": [
    {
     "data": {
      "text/html": [
       "<div>\n",
       "<style scoped>\n",
       "    .dataframe tbody tr th:only-of-type {\n",
       "        vertical-align: middle;\n",
       "    }\n",
       "\n",
       "    .dataframe tbody tr th {\n",
       "        vertical-align: top;\n",
       "    }\n",
       "\n",
       "    .dataframe thead th {\n",
       "        text-align: right;\n",
       "    }\n",
       "</style>\n",
       "<table border=\"1\" class=\"dataframe\">\n",
       "  <thead>\n",
       "    <tr style=\"text-align: right;\">\n",
       "      <th></th>\n",
       "      <th>Review Id</th>\n",
       "      <th>Text</th>\n",
       "      <th>Annotator 1</th>\n",
       "      <th>Annotator 2</th>\n",
       "      <th>Annotator 3</th>\n",
       "      <th>encoded_Annotator 1</th>\n",
       "    </tr>\n",
       "  </thead>\n",
       "  <tbody>\n",
       "    <tr>\n",
       "      <th>0</th>\n",
       "      <td>1.0</td>\n",
       "      <td>بھنڈی بنائی تھی بہت اچھی بنی تھ</td>\n",
       "      <td>pos</td>\n",
       "      <td>pos</td>\n",
       "      <td>pos</td>\n",
       "      <td>2</td>\n",
       "    </tr>\n",
       "    <tr>\n",
       "      <th>1</th>\n",
       "      <td>2.0</td>\n",
       "      <td>آہاں نائس بارکان ویسے اس موسم میں بھنڈی</td>\n",
       "      <td>pos</td>\n",
       "      <td>pos</td>\n",
       "      <td>pos</td>\n",
       "      <td>2</td>\n",
       "    </tr>\n",
       "    <tr>\n",
       "      <th>2</th>\n",
       "      <td>3.0</td>\n",
       "      <td>سوری ہمارے لیے موسم کوئی معنے رکھتے لوکیشن اہم...</td>\n",
       "      <td>neu</td>\n",
       "      <td>neu</td>\n",
       "      <td>neu</td>\n",
       "      <td>1</td>\n",
       "    </tr>\n",
       "    <tr>\n",
       "      <th>3</th>\n",
       "      <td>4.0</td>\n",
       "      <td>چکن کڑاہی</td>\n",
       "      <td>neu</td>\n",
       "      <td>neu</td>\n",
       "      <td>neu</td>\n",
       "      <td>1</td>\n",
       "    </tr>\n",
       "    <tr>\n",
       "      <th>4</th>\n",
       "      <td>5.0</td>\n",
       "      <td>ہاں تو بنا کے ہی کھائی نا</td>\n",
       "      <td>neu</td>\n",
       "      <td>neu</td>\n",
       "      <td>neu</td>\n",
       "      <td>1</td>\n",
       "    </tr>\n",
       "  </tbody>\n",
       "</table>\n",
       "</div>"
      ],
      "text/plain": [
       "   Review Id                                               Text Annotator 1  \\\n",
       "0        1.0                    بھنڈی بنائی تھی بہت اچھی بنی تھ         pos   \n",
       "1        2.0            آہاں نائس بارکان ویسے اس موسم میں بھنڈی         pos   \n",
       "2        3.0  سوری ہمارے لیے موسم کوئی معنے رکھتے لوکیشن اہم...         neu   \n",
       "3        4.0                                          چکن کڑاہی         neu   \n",
       "4        5.0                         ہاں تو بنا کے ہی کھائی نا          neu   \n",
       "\n",
       "  Annotator 2 Annotator 3  encoded_Annotator 1  \n",
       "0         pos         pos                    2  \n",
       "1         pos         pos                    2  \n",
       "2         neu         neu                    1  \n",
       "3         neu         neu                    1  \n",
       "4         neu         neu                    1  "
      ]
     },
     "execution_count": 26,
     "metadata": {},
     "output_type": "execute_result"
    }
   ],
   "source": [
    "df.head()"
   ]
  },
  {
   "cell_type": "code",
   "execution_count": 27,
   "id": "c195f9a5",
   "metadata": {},
   "outputs": [],
   "source": [
    "X_train, X_test, Y_train, Y_test = train_test_split(df['Text'], df['encoded_Annotator 1'], test_size = 0.30, random_state = 7)"
   ]
  },
  {
   "cell_type": "code",
   "execution_count": 28,
   "id": "46bef6c0",
   "metadata": {},
   "outputs": [
    {
     "name": "stdout",
     "output_type": "stream",
     "text": [
      "Shape of X_train (2109,)\n",
      "Shape of X_test (905,)\n",
      "Shape of Y_train (2109,)\n",
      "Shape of Y_test (905,)\n"
     ]
    }
   ],
   "source": [
    "print('Shape of X_train', X_train.shape)\n",
    "print('Shape of X_test', X_test.shape)\n",
    "print('Shape of Y_train', Y_train.shape)\n",
    "print('Shape of Y_test', Y_test.shape)"
   ]
  },
  {
   "cell_type": "code",
   "execution_count": 29,
   "id": "105550cc",
   "metadata": {},
   "outputs": [],
   "source": [
    "max_feature_num = 50000\n",
    "vectorizer = TfidfVectorizer(max_features=max_feature_num)\n",
    "train_vecs = vectorizer.fit_transform(X_train)\n",
    "test_vecs = TfidfVectorizer(max_features=max_feature_num, vocabulary=vectorizer.vocabulary_).fit_transform(X_test)"
   ]
  },
  {
   "cell_type": "code",
   "execution_count": 30,
   "id": "1f4b078b",
   "metadata": {},
   "outputs": [],
   "source": [
    "def SVM_classifier(train_vecs, Y_train, test_vecs, Y_test):\n",
    "    # Training\n",
    "    SVM = svm.LinearSVC(max_iter=100)\n",
    "    SVM.fit(train_vecs, Y_train)\n",
    "\n",
    "    # Testing\n",
    "    test_predictionSVM = SVM.predict(test_vecs)\n",
    "    return classification_report(test_predictionSVM, Y_test), confusion_matrix(test_predictionSVM, Y_test)"
   ]
  },
  {
   "cell_type": "code",
   "execution_count": 31,
   "id": "4d2b1b31",
   "metadata": {},
   "outputs": [],
   "source": [
    "def LR_classifier(train_vecs, Y_train, test_vecs, Y_test):\n",
    "    # Training\n",
    "    LR = LogisticRegression()\n",
    "    LR.fit(train_vecs, Y_train)\n",
    "\n",
    "    # testing\n",
    "    test_predictionLR = LR.predict(test_vecs)\n",
    "    return classification_report(test_predictionLR, Y_test) , confusion_matrix(test_predictionLR, Y_test)"
   ]
  },
  {
   "cell_type": "code",
   "execution_count": 32,
   "id": "1f69af9d",
   "metadata": {},
   "outputs": [],
   "source": [
    "def DT_classifier(train_vecs, Y_train, test_vecs, Y_test):\n",
    "    # Training\n",
    "    DT = DecisionTreeClassifier(max_depth = 9, random_state = 23 )\n",
    "    DT.fit(train_vecs, Y_train)\n",
    "\n",
    "    # Testing\n",
    "    test_predictionDT = DT.predict(test_vecs)\n",
    "    return classification_report(test_predictionDT, Y_test), confusion_matrix(test_predictionDT, Y_test) "
   ]
  },
  {
   "cell_type": "code",
   "execution_count": 33,
   "id": "d4e3861a",
   "metadata": {},
   "outputs": [],
   "source": [
    "def XGB_classifier(train_vecs, Y_train, test_vecs, Y_test):\n",
    "    # Training\n",
    "    XGB = xgb.XGBClassifier(colsample_bytree = 0.2, learning_rate = 0.01, n_estimators = 100)\n",
    "    XGB.fit(train_vecs, Y_train)\n",
    "\n",
    "    # Testing\n",
    "    test_predictionXGB = XGB.predict(test_vecs)\n",
    "    return classification_report(test_predictionXGB, Y_test), confusion_matrix(test_predictionXGB, Y_test) "
   ]
  },
  {
   "cell_type": "code",
   "execution_count": 34,
   "id": "445b0bcc",
   "metadata": {},
   "outputs": [],
   "source": [
    "def RF_classifier(train_vecs, Y_train, test_vecs, Y_test):\n",
    "    # Training\n",
    "    RF = RandomForestClassifier(n_estimators = 450, max_depth=9, random_state=43)\n",
    "    RF.fit(train_vecs, Y_train)\n",
    "\n",
    "    # Testing\n",
    "    test_predictionRF = RF.predict(test_vecs)\n",
    "    return classification_report(test_predictionRF, Y_test), confusion_matrix(test_predictionRF, Y_test)"
   ]
  },
  {
   "cell_type": "code",
   "execution_count": 35,
   "id": "97064611",
   "metadata": {},
   "outputs": [
    {
     "name": "stdout",
     "output_type": "stream",
     "text": [
      "Results of SVM Classifier on TF-IDF Vectorizer\n",
      "              precision    recall  f1-score   support\n",
      "\n",
      "           0       0.83      0.95      0.88       169\n",
      "           1       0.94      0.91      0.93       447\n",
      "           2       0.91      0.89      0.90       289\n",
      "\n",
      "    accuracy                           0.91       905\n",
      "   macro avg       0.90      0.92      0.90       905\n",
      "weighted avg       0.91      0.91      0.91       905\n",
      "\n",
      "[[160   4   5]\n",
      " [ 21 407  19]\n",
      " [ 12  20 257]]\n"
     ]
    }
   ],
   "source": [
    "class_report , conf_matrix = SVM_classifier(train_vecs, Y_train, test_vecs, Y_test)\n",
    "print('Results of SVM Classifier on TF-IDF Vectorizer')\n",
    "print(class_report)\n",
    "print(conf_matrix)"
   ]
  },
  {
   "cell_type": "code",
   "execution_count": 36,
   "id": "3f5f989e",
   "metadata": {},
   "outputs": [
    {
     "name": "stdout",
     "output_type": "stream",
     "text": [
      "Results of Logistic Regression Classifier on TF-IDF Vectorizer\n",
      "              precision    recall  f1-score   support\n",
      "\n",
      "           0       0.64      0.85      0.73       146\n",
      "           1       0.93      0.76      0.84       527\n",
      "           2       0.75      0.91      0.82       232\n",
      "\n",
      "    accuracy                           0.81       905\n",
      "   macro avg       0.77      0.84      0.80       905\n",
      "weighted avg       0.84      0.81      0.82       905\n",
      "\n",
      "[[124  13   9]\n",
      " [ 64 401  62]\n",
      " [  5  17 210]]\n"
     ]
    }
   ],
   "source": [
    "class_report , conf_matrix = LR_classifier(train_vecs, Y_train, test_vecs, Y_test)\n",
    "print('Results of Logistic Regression Classifier on TF-IDF Vectorizer')\n",
    "print(class_report)\n",
    "print(conf_matrix)"
   ]
  },
  {
   "cell_type": "code",
   "execution_count": 37,
   "id": "f4600e71",
   "metadata": {},
   "outputs": [
    {
     "name": "stdout",
     "output_type": "stream",
     "text": [
      "Results of Decision Tree Classifier on TF-IDF Vectorizer\n",
      "              precision    recall  f1-score   support\n",
      "\n",
      "           0       0.63      0.75      0.68       161\n",
      "           1       0.91      0.65      0.76       605\n",
      "           2       0.44      0.90      0.60       139\n",
      "\n",
      "    accuracy                           0.70       905\n",
      "   macro avg       0.66      0.77      0.68       905\n",
      "weighted avg       0.79      0.70      0.72       905\n",
      "\n",
      "[[121  26  14]\n",
      " [ 71 392 142]\n",
      " [  1  13 125]]\n"
     ]
    }
   ],
   "source": [
    "class_report , conf_matrix = DT_classifier(train_vecs, Y_train, test_vecs, Y_test)\n",
    "print('Results of Decision Tree Classifier on TF-IDF Vectorizer')\n",
    "print(class_report)\n",
    "print(conf_matrix)"
   ]
  },
  {
   "cell_type": "code",
   "execution_count": 38,
   "id": "63affac3",
   "metadata": {},
   "outputs": [
    {
     "name": "stdout",
     "output_type": "stream",
     "text": [
      "Results of Xgboost Classifier on TF-IDF Vectorizer\n",
      "              precision    recall  f1-score   support\n",
      "\n",
      "           0       0.18      0.95      0.30        37\n",
      "           1       0.99      0.56      0.72       757\n",
      "           2       0.37      0.95      0.54       111\n",
      "\n",
      "    accuracy                           0.62       905\n",
      "   macro avg       0.51      0.82      0.52       905\n",
      "weighted avg       0.88      0.62      0.68       905\n",
      "\n",
      "[[ 35   1   1]\n",
      " [157 425 175]\n",
      " [  1   5 105]]\n"
     ]
    }
   ],
   "source": [
    "class_report , conf_matrix = XGB_classifier(train_vecs, Y_train, test_vecs, Y_test)\n",
    "print('Results of Xgboost Classifier on TF-IDF Vectorizer')\n",
    "print(class_report)\n",
    "print(conf_matrix)"
   ]
  },
  {
   "cell_type": "code",
   "execution_count": 39,
   "id": "74aac83d",
   "metadata": {},
   "outputs": [
    {
     "name": "stdout",
     "output_type": "stream",
     "text": [
      "Results of Random Forest Classifier on TF-IDF Vectorizer\n",
      "              precision    recall  f1-score   support\n",
      "\n",
      "           0       0.02      1.00      0.03         3\n",
      "           1       1.00      0.50      0.67       855\n",
      "           2       0.16      0.96      0.27        47\n",
      "\n",
      "    accuracy                           0.53       905\n",
      "   macro avg       0.39      0.82      0.32       905\n",
      "weighted avg       0.95      0.53      0.64       905\n",
      "\n",
      "[[  3   0   0]\n",
      " [190 429 236]\n",
      " [  0   2  45]]\n"
     ]
    }
   ],
   "source": [
    "class_report , conf_matrix = RF_classifier(train_vecs, Y_train, test_vecs, Y_test)\n",
    "print('Results of Random Forest Classifier on TF-IDF Vectorizer')\n",
    "print(class_report)\n",
    "print(conf_matrix)"
   ]
  },
  {
   "cell_type": "code",
   "execution_count": 40,
   "id": "0de2f8d2",
   "metadata": {},
   "outputs": [
    {
     "name": "stdout",
     "output_type": "stream",
     "text": [
      "<class 'pandas.core.frame.DataFrame'>\n",
      "RangeIndex: 3014 entries, 0 to 3013\n",
      "Data columns (total 5 columns):\n",
      " #   Column       Non-Null Count  Dtype  \n",
      "---  ------       --------------  -----  \n",
      " 0   Review Id    2964 non-null   float64\n",
      " 1   Text         3014 non-null   object \n",
      " 2   Annotator 1  3014 non-null   object \n",
      " 3   Annotator 2  3014 non-null   object \n",
      " 4   Annotator 3  3014 non-null   object \n",
      "dtypes: float64(1), object(4)\n",
      "memory usage: 117.9+ KB\n"
     ]
    }
   ],
   "source": [
    "data.info()"
   ]
  },
  {
   "cell_type": "code",
   "execution_count": null,
   "id": "f8d8ac40",
   "metadata": {},
   "outputs": [],
   "source": []
  },
  {
   "cell_type": "code",
   "execution_count": null,
   "id": "68cb4613",
   "metadata": {},
   "outputs": [],
   "source": []
  },
  {
   "cell_type": "code",
   "execution_count": null,
   "id": "31285f78",
   "metadata": {},
   "outputs": [],
   "source": []
  }
 ],
 "metadata": {
  "kernelspec": {
   "display_name": "Python 3 (ipykernel)",
   "language": "python",
   "name": "python3"
  },
  "language_info": {
   "codemirror_mode": {
    "name": "ipython",
    "version": 3
   },
   "file_extension": ".py",
   "mimetype": "text/x-python",
   "name": "python",
   "nbconvert_exporter": "python",
   "pygments_lexer": "ipython3",
   "version": "3.7.15"
  }
 },
 "nbformat": 4,
 "nbformat_minor": 5
}
